{
 "cells": [
  {
   "cell_type": "code",
   "execution_count": 1,
   "id": "9f004413",
   "metadata": {},
   "outputs": [],
   "source": [
    "import numpy as np\n",
    "import pandas as pd\n",
    "import matplotlib.pyplot as plt\n",
    "from datetime import datetime"
   ]
  },
  {
   "cell_type": "code",
   "execution_count": 2,
   "id": "b2303443",
   "metadata": {},
   "outputs": [],
   "source": [
    "import berserk\n",
    "import chess\n",
    "import xycmap"
   ]
  },
  {
   "cell_type": "code",
   "execution_count": 3,
   "id": "71b1b9d0",
   "metadata": {},
   "outputs": [],
   "source": [
    "client = berserk.Client()"
   ]
  },
  {
   "cell_type": "code",
   "execution_count": 4,
   "id": "fc530ba0",
   "metadata": {},
   "outputs": [],
   "source": [
    "player = \"devinpleuler\""
   ]
  },
  {
   "cell_type": "code",
   "execution_count": 5,
   "id": "1479c939",
   "metadata": {},
   "outputs": [],
   "source": [
    "start = berserk.utils.to_millis(datetime(2023, 1, 1))\n",
    "end = berserk.utils.to_millis(datetime(2024, 1, 1))\n",
    "gen = client.games.export_by_player(player, since=start, until=end)"
   ]
  },
  {
   "cell_type": "code",
   "execution_count": 6,
   "id": "8e14a0c8",
   "metadata": {},
   "outputs": [],
   "source": [
    "games = list(gen)"
   ]
  },
  {
   "cell_type": "code",
   "execution_count": 7,
   "id": "eec843bd",
   "metadata": {},
   "outputs": [],
   "source": [
    "total_games = float(len(games))"
   ]
  },
  {
   "cell_type": "code",
   "execution_count": 8,
   "id": "ca3c4ca2",
   "metadata": {},
   "outputs": [],
   "source": [
    "occupancy = {True: {}, False: {}}\n",
    "for g in games:\n",
    "    if g['source'] == \"pool\":\n",
    "        white_player = g['players']['white']['user']['name']\n",
    "        black_player = g['players']['black']['user']['name']\n",
    "\n",
    "        if player in [white_player, black_player]:\n",
    "            moves = g['moves'].split(\" \")\n",
    "            board = chess.Board()\n",
    "            for i, m in enumerate(moves):\n",
    "                mov_num = i\n",
    "                for k, piece in board.piece_map().items():\n",
    "                        if mov_num not in occupancy[piece.color]:\n",
    "                            occupancy[piece.color][mov_num] = {}\n",
    "                        if k not in occupancy[piece.color][mov_num]:\n",
    "                            occupancy[piece.color][mov_num][k] = 0\n",
    "                        occupancy[piece.color][mov_num][k] += 1\n",
    "                board.push_san(m)"
   ]
  },
  {
   "cell_type": "code",
   "execution_count": 9,
   "id": "298b8a68",
   "metadata": {},
   "outputs": [],
   "source": [
    "densities = {}\n",
    "for color, moves in occupancy.items():\n",
    "    for mov_num, locations in moves.items():\n",
    "        density = {k: 0 for k in range(64)}\n",
    "        for k, v in locations.items():\n",
    "            density[k] += v\n",
    "        densities[(color, mov_num)] = density    "
   ]
  },
  {
   "cell_type": "code",
   "execution_count": 10,
   "id": "b5bb1cff",
   "metadata": {},
   "outputs": [],
   "source": [
    "corner_colors = (\"#e8e8e8\", \"#64acbe\", \"#c85a5a\", \"#574249\")\n",
    "n = (5, 5)\n",
    "cmap = xycmap.custom_xycmap(corner_colors=corner_colors, n=n)"
   ]
  },
  {
   "cell_type": "code",
   "execution_count": 11,
   "id": "b0fc2bd5",
   "metadata": {},
   "outputs": [
    {
     "data": {
      "image/png": "[encoded data removed]",
      "text/plain": [
       "<Figure size 600x600 with 49 Axes>"
      ]
     },
     "metadata": {},
     "output_type": "display_data"
    }
   ],
   "source": [
    "rows = 7\n",
    "fig, axes = plt.subplots(nrows=rows, ncols=rows, figsize=(6, 6))\n",
    "\n",
    "for i in range(rows * rows):\n",
    "    j = i*2\n",
    "    flat_white = [(float(v * 1.5)/total_games) for k, v in densities[(True, j)].items()] \n",
    "    flat_black = [(float(v * 1.5)/total_games) for k, v in densities[(False, j)].items()]\n",
    "    \n",
    "    colors = xycmap.bivariate_color(sx=pd.Series(flat_white), sy=pd.Series(flat_black), cmap=cmap)\n",
    "\n",
    "    flat = []\n",
    "    for r,g,b,a in colors.values:\n",
    "        flat.append(np.array([r,g,b,a]))\n",
    "\n",
    "    square = np.reshape(np.array(flat),(8,8,4))\n",
    "    \n",
    "    ax = axes[i // rows, i % rows]\n",
    "    ax.imshow(square, alpha=1.0, interpolation='nearest')\n",
    "    \n",
    "    x_ticks = np.arange(-0.5, square.shape[1], 1)\n",
    "    y_ticks = np.arange(-0.5, square.shape[0], 1)\n",
    "    ax.set_xticks(x_ticks, minor=True)\n",
    "    ax.set_yticks(y_ticks, minor=True)\n",
    "    ax.grid(which='minor', color='white', lw=0.5)\n",
    "\n",
    "    ax.set_xlim(-0.5, square.shape[1])\n",
    "    ax.set_ylim(-0.5, square.shape[0])\n",
    "\n",
    "    ax.set_xticks([])\n",
    "    ax.set_yticks([])\n",
    "    ax.set_xticklabels([])\n",
    "    ax.set_yticklabels([])\n",
    "    ax.tick_params(which='minor', length=0)\n",
    "\n",
    "    ax.spines['right'].set_color('none')\n",
    "    ax.spines['left'].set_color('none')\n",
    "    ax.spines['top'].set_color('none')\n",
    "    ax.spines['bottom'].set_color('none')\n",
    "\n",
    "    for _, spine in ax.spines.items():\n",
    "        spine.set_linewidth(0)\n",
    "\n",
    "plt.subplots_adjust(hspace=0.05, wspace=0.05)\n",
    "plt.tight_layout()\n",
    "plt.savefig(\"lichess_{}.jpeg\".format(player), format='jpeg', dpi=300)"
   ]
  },
  {
   "cell_type": "code",
   "execution_count": null,
   "id": "ae2182a6",
   "metadata": {},
   "outputs": [],
   "source": []
  }
 ],
 "metadata": {
  "kernelspec": {
   "display_name": "Python 3 (ipykernel)",
   "language": "python",
   "name": "python3"
  },
  "language_info": {
   "codemirror_mode": {
    "name": "ipython",
    "version": 3
   },
   "file_extension": ".py",
   "mimetype": "text/x-python",
   "name": "python",
   "nbconvert_exporter": "python",
   "pygments_lexer": "ipython3",
   "version": "3.11.4"
  }
 },
 "nbformat": 4,
 "nbformat_minor": 5
}
